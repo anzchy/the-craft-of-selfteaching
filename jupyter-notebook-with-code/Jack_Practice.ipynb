{
 "cells": [
  {
   "cell_type": "markdown",
   "id": "52793af8",
   "metadata": {},
   "source": [
    "# 1、首次体验"
   ]
  },
  {
   "cell_type": "code",
   "execution_count": 2,
   "id": "752772d5",
   "metadata": {},
   "outputs": [
    {
     "name": "stdout",
     "output_type": "stream",
     "text": [
      "Hello World~\n"
     ]
    }
   ],
   "source": [
    "print('Hello World~')"
   ]
  },
  {
   "cell_type": "markdown",
   "id": "4f3a26a2-594e-416e-a6ee-ea42e25f5065",
   "metadata": {},
   "source": [
    "# 2、Branching and Iteration"
   ]
  },
  {
   "cell_type": "code",
   "execution_count": null,
   "id": "0d80406b-4d52-4053-939d-4fcb587198ff",
   "metadata": {},
   "outputs": [],
   "source": [
    "# MIT 6.0001 book Chapter 2——2.3 branching\n",
    "\n",
    "\"\"\"\n",
    "write a program that examines three variables—— x, y, and z —— and prints the largest odd number among then. \n",
    "if none of them are odd, it should print the smallest value of the three.\n",
    "\"\"\"\n",
    "\n",
    "answer = min(x,y,z)\n",
    "if x%2 !=0:\n",
    "    answer = x\n",
    "if y%2 !=0 and y > answer:\n",
    "    answer = y\n",
    "if z%2 !=0 and z > answer:\n",
    "    answer = z\n",
    "print(answer)\n"
   ]
  },
  {
   "cell_type": "code",
   "execution_count": 2,
   "id": "48fa213a-b5b4-4fe0-8f0b-2b439bb9c2b7",
   "metadata": {},
   "outputs": [
    {
     "name": "stdin",
     "output_type": "stream",
     "text": [
      "Enter your birthday in the form of mm/dd/yyyy 03/22/1992\n"
     ]
    },
    {
     "name": "stdout",
     "output_type": "stream",
     "text": [
      "You were born in the year of 1992\n"
     ]
    }
   ],
   "source": [
    "# MIT 6.0001 book Chapter 2——2.4.1——finger exercise\n",
    "\n",
    "\"\"\"\n",
    "Write code that asks the user to enter their birthday in the form mm/dd/yyyy, \n",
    "and then prints a string of the form'You were born in the year yyyy.'\n",
    "\"\"\"\n",
    "\n",
    "birthday = input(\"Enter your birthday in the form of mm/dd/yyyy\")\n",
    "b = birthday[-4:]\n",
    "print(f'You were born in the year of {b}.')\n"
   ]
  },
  {
   "cell_type": "code",
   "execution_count": 9,
   "id": "65ac69e1-94ca-4587-a8a5-3f762dcd1684",
   "metadata": {},
   "outputs": [
    {
     "name": "stdout",
     "output_type": "stream",
     "text": [
      "You have entered 0 integers.\n"
     ]
    },
    {
     "name": "stdin",
     "output_type": "stream",
     "text": [
      " 1\n"
     ]
    },
    {
     "name": "stdout",
     "output_type": "stream",
     "text": [
      "You have entered 1 integers.\n"
     ]
    },
    {
     "name": "stdin",
     "output_type": "stream",
     "text": [
      " 2\n"
     ]
    },
    {
     "name": "stdout",
     "output_type": "stream",
     "text": [
      "You have entered 2 integers.\n"
     ]
    },
    {
     "name": "stdin",
     "output_type": "stream",
     "text": [
      " 3\n"
     ]
    },
    {
     "name": "stdout",
     "output_type": "stream",
     "text": [
      "You have entered 3 integers.\n"
     ]
    },
    {
     "name": "stdin",
     "output_type": "stream",
     "text": [
      " 4\n"
     ]
    },
    {
     "name": "stdout",
     "output_type": "stream",
     "text": [
      "You have entered 4 integers.\n"
     ]
    },
    {
     "name": "stdin",
     "output_type": "stream",
     "text": [
      " 5\n"
     ]
    },
    {
     "name": "stdout",
     "output_type": "stream",
     "text": [
      "You have entered 5 integers.\n"
     ]
    },
    {
     "name": "stdin",
     "output_type": "stream",
     "text": [
      " 6\n"
     ]
    },
    {
     "name": "stdout",
     "output_type": "stream",
     "text": [
      "You have entered 6 integers.\n"
     ]
    },
    {
     "name": "stdin",
     "output_type": "stream",
     "text": [
      " 7\n"
     ]
    },
    {
     "name": "stdout",
     "output_type": "stream",
     "text": [
      "You have entered 7 integers.\n"
     ]
    },
    {
     "name": "stdin",
     "output_type": "stream",
     "text": [
      " 10\n"
     ]
    },
    {
     "name": "stdout",
     "output_type": "stream",
     "text": [
      "You have entered 8 integers.\n"
     ]
    },
    {
     "name": "stdin",
     "output_type": "stream",
     "text": [
      " 15\n"
     ]
    },
    {
     "name": "stdout",
     "output_type": "stream",
     "text": [
      "You have entered 9 integers.\n"
     ]
    },
    {
     "name": "stdin",
     "output_type": "stream",
     "text": [
      " 16\n"
     ]
    },
    {
     "name": "stdout",
     "output_type": "stream",
     "text": [
      "16\n",
      "the largest odd number is:16.\n"
     ]
    }
   ],
   "source": [
    "# MIT 6.0001 book Chapter 2——2.5 While loops——finger exercise\n",
    "\n",
    "\"\"\"\n",
    "Write a program that asks the user to input 10 integers, and then prints the largest odd number that was entered.\n",
    "If no odd number was entered, it should print a message to that effect.\n",
    "做法一：一次输入一个数字，共输入 10 次。\n",
    "\"\"\"\n",
    "\n",
    "\n",
    "even_number = []\n",
    "i = 0\n",
    "\n",
    "while(i<10):\n",
    "    print(f'You have entered {i} integers.')\n",
    "    num = int(input())\n",
    "    if num%2==0:\n",
    "        even_number.append(num)\n",
    "    i = i+1\n",
    "\n",
    "if len(even_number):\n",
    "    print(f'the largest odd number is:{max(even_number)}.')\n",
    "else:\n",
    "    print('there is no odd number.')"
   ]
  },
  {
   "cell_type": "code",
   "execution_count": 11,
   "id": "9c7afaf7-4a60-463a-8bdc-c8ce3d8192c1",
   "metadata": {},
   "outputs": [
    {
     "name": "stdout",
     "output_type": "stream",
     "text": [
      "Please entere 10 integers, each of them seperated by space\n"
     ]
    },
    {
     "name": "stdin",
     "output_type": "stream",
     "text": [
      " 3 4 56 7\n"
     ]
    },
    {
     "name": "stdout",
     "output_type": "stream",
     "text": [
      "the number of inters are not 10.\n"
     ]
    },
    {
     "name": "stdin",
     "output_type": "stream",
     "text": [
      " 4 5 6\n"
     ]
    },
    {
     "name": "stdout",
     "output_type": "stream",
     "text": [
      "the number of inters are not 10.\n"
     ]
    },
    {
     "name": "stdin",
     "output_type": "stream",
     "text": [
      " 1 2 3 4 5 6 7 8 9 100\n"
     ]
    },
    {
     "name": "stdout",
     "output_type": "stream",
     "text": [
      "the largest odd number is:100.\n"
     ]
    }
   ],
   "source": [
    "# MIT 6.0001 book Chapter 2——2.5 While loops——finger exercise\n",
    "\n",
    "\"\"\"\n",
    "Write a program that asks the user to input 10 integers, and then prints the largest odd number that was entered.\n",
    "If no odd number was entered, it should print a message to that effect.\n",
    "做法二：一次性输入 10 个数字，用空格隔开\n",
    "\"\"\"\n",
    "\n",
    "\n",
    "even_number = []\n",
    "\n",
    "print('Please entere 10 integers, each of them seperated by space')\n",
    "strs = input().split()\n",
    "while(len(strs)!=10):\n",
    "    print('the number of inters are not 10, Please try again.')\n",
    "    strs = input().split()\n",
    "\n",
    "for s in strs:\n",
    "    if int(s)%2==0:\n",
    "        even_number.append(int(s))\n",
    "\n",
    "if len(even_number):\n",
    "    print(f'the largest odd number is:{max(even_number)}.')\n",
    "else:\n",
    "    print('there is no odd number.')"
   ]
  },
  {
   "cell_type": "code",
   "execution_count": 12,
   "id": "2d5cfb7b-4702-443e-950f-77bb591947c4",
   "metadata": {},
   "outputs": [
    {
     "name": "stdout",
     "output_type": "stream",
     "text": [
      "Iteration of outer loop\n",
      "       Iteration of inner loop\n",
      "       Iteration of inner loop\n",
      "       Iteration of inner loop\n",
      "       Iteration of inner loop\n",
      "       Iteration of inner loop\n",
      "Iteration of outer loop\n",
      "       Iteration of inner loop\n",
      "       Iteration of inner loop\n",
      "       Iteration of inner loop\n",
      "Iteration of outer loop\n",
      "       Iteration of inner loop\n",
      "       Iteration of inner loop\n",
      "       Iteration of inner loop\n",
      "Iteration of outer loop\n",
      "       Iteration of inner loop\n",
      "       Iteration of inner loop\n",
      "       Iteration of inner loop\n",
      "Iteration of outer loop\n",
      "       Iteration of inner loop\n",
      "       Iteration of inner loop\n",
      "       Iteration of inner loop\n"
     ]
    }
   ],
   "source": [
    "# MIT 6.0001 book Chapter 2——2.6 for loops and range \n",
    "\"\"\"\n",
    "Nested for loops, see how many inner loops were evaluated and how many outer loops?\n",
    "\"\"\"\n",
    "\n",
    "x = 5\n",
    "for j in range(x):\n",
    "    print('Iteration of outer loop')\n",
    "    for i in range(x):\n",
    "        print('       Iteration of inner loop')\n",
    "        x=3"
   ]
  },
  {
   "cell_type": "code",
   "execution_count": 26,
   "id": "efe8c374-31b5-46ea-87c9-d78ee9bd2cde",
   "metadata": {},
   "outputs": [
    {
     "name": "stdout",
     "output_type": "stream",
     "text": [
      "Find a prime number:3.\n",
      "Find a prime number:5.\n",
      "Find a prime number:5.\n",
      "Find a prime number:5.\n",
      "Find a prime number:7.\n",
      "Find a prime number:7.\n",
      "Find a prime number:7.\n",
      "Find a prime number:7.\n",
      "Find a prime number:7.\n",
      "Find a prime number:9.\n",
      "The sum of all prime numbers are:62\n"
     ]
    }
   ],
   "source": [
    "# MIT 6.0001 book Chapter 2——2.6 for loops and range——finger exercise \n",
    "\"\"\"\n",
    "Write a program that prints the sum of the prime mubers greater than 2 and less than 1000.\n",
    "\n",
    "\"\"\"\n",
    "\n",
    "#以下代码是我自己写的代码，但是运行是错误的。\n",
    "\"\"\"\n",
    "sum = 0\n",
    "for i in range(3,10):\n",
    "    for j in range(2,i):\n",
    "        if i%j ==0:\n",
    "            break\n",
    "        print(f'Find a prime number:{i}.')\n",
    "        sum = sum + i\n",
    "print(f'The sum of all prime numbers are:{sum}')\n",
    "\"\"\"\n",
    "\n",
    "#以下是 chatgpt 更正之后的代码，注意 else 与 for 是平行的代码。\n",
    "#具体用法可以参考 python 文档：https://docs.python.org/zh-cn/3/tutorial/controlflow.html，4.4 小节\n",
    "\n",
    "\"\"\"\n",
    "break 语句将跳出最近的一层 for 或 while 循环。\n",
    "\n",
    "for 或 while 循环可以包括 else 子句。\n",
    "\n",
    "在 for 循环中，else 子句会在循环成功结束最后一次迭代之后执行。\n",
    "\n",
    "在 while 循环中，它会在循环条件变为假值后执行。\n",
    "\n",
    "无论哪种循环，如果因为 break 而结束，那么 else 子句就 不会 执行。\n",
    "\n",
    "\"\"\"\n",
    "\n",
    "sum_of_primes = 0\n",
    "\n",
    "for i in range(3, 1000):\n",
    "    for j in range(2, i):\n",
    "        if i % j == 0:\n",
    "            break\n",
    "    else:\n",
    "        # 'else'部分仅在未执行过'break'时执行，表示找到了一个质数\n",
    "        print(f'Find a prime number: {i}.')\n",
    "        sum_of_primes += i\n",
    "\n",
    "print(f'The sum of all prime numbers greater than 2 and less than 1000 is: {sum_of_primes}')\n"
   ]
  },
  {
   "cell_type": "code",
   "execution_count": null,
   "id": "273e4705-3cfd-43a8-89a8-327835c8955a",
   "metadata": {},
   "outputs": [],
   "source": []
  },
  {
   "cell_type": "markdown",
   "id": "46378f13-f956-4da3-b738-70cac89950d6",
   "metadata": {},
   "source": [
    "# 2、函数"
   ]
  },
  {
   "cell_type": "markdown",
   "id": "aaa376a2-f55e-44f1-b659-85bdadf55164",
   "metadata": {},
   "source": [
    "### (1) Keyword arguments"
   ]
  },
  {
   "cell_type": "code",
   "execution_count": 2,
   "id": "a55c884f-b3c4-497c-b12d-9004c085f0a2",
   "metadata": {
    "scrolled": true
   },
   "outputs": [
    {
     "name": "stdout",
     "output_type": "stream",
     "text": [
      "hello, Jack\n",
      "hello, Sally\n"
     ]
    }
   ],
   "source": [
    "def say_hi(name):\n",
    "    print(\"hello,\", name)\n",
    "say_hi(name = 'Jack')\n",
    "say_hi('Sally') #第一个参数用 positonal 或者 keyword 传参都行\n"
   ]
  },
  {
   "cell_type": "code",
   "execution_count": 3,
   "id": "c893c08d-07e6-4a8a-a8a6-a45215da7957",
   "metadata": {},
   "outputs": [
    {
     "name": "stdout",
     "output_type": "stream",
     "text": [
      "hello, Jack\n"
     ]
    },
    {
     "ename": "TypeError",
     "evalue": "say_hi() takes 0 positional arguments but 1 was given",
     "output_type": "error",
     "traceback": [
      "\u001b[0;31m---------------------------------------------------------------------------\u001b[0m",
      "\u001b[0;31mTypeError\u001b[0m                                 Traceback (most recent call last)",
      "Cell \u001b[0;32mIn[3], line 5\u001b[0m\n\u001b[1;32m      3\u001b[0m     \u001b[38;5;28mprint\u001b[39m(\u001b[38;5;124m\"\u001b[39m\u001b[38;5;124mhello,\u001b[39m\u001b[38;5;124m\"\u001b[39m, name)\n\u001b[1;32m      4\u001b[0m say_hi(name \u001b[38;5;241m=\u001b[39m \u001b[38;5;124m'\u001b[39m\u001b[38;5;124mJack\u001b[39m\u001b[38;5;124m'\u001b[39m)\n\u001b[0;32m----> 5\u001b[0m \u001b[43msay_hi\u001b[49m\u001b[43m(\u001b[49m\u001b[38;5;124;43m'\u001b[39;49m\u001b[38;5;124;43mSally\u001b[39;49m\u001b[38;5;124;43m'\u001b[39;49m\u001b[43m)\u001b[49m \u001b[38;5;66;03m# 会报错\u001b[39;00m\n",
      "\u001b[0;31mTypeError\u001b[0m: say_hi() takes 0 positional arguments but 1 was given"
     ]
    }
   ],
   "source": [
    "#加了*后，*之后的参数只能通过 kwargs 方式传参\n",
    "def say_hi(*, name):\n",
    "    print(\"hello,\", name)\n",
    "say_hi(name = 'Jack')\n",
    "say_hi('Sally') # 会报错"
   ]
  },
  {
   "cell_type": "markdown",
   "id": "d386b7e6-cdac-4545-acfb-8c2ed18c1d27",
   "metadata": {},
   "source": [
    "### （2）Positional Arguments"
   ]
  },
  {
   "cell_type": "code",
   "execution_count": 6,
   "id": "1ffe0f3d-0d9f-48be-9ac5-b20ab9a20f6f",
   "metadata": {},
   "outputs": [
    {
     "name": "stdout",
     "output_type": "stream",
     "text": [
      "hello, Sally\n"
     ]
    },
    {
     "ename": "TypeError",
     "evalue": "say_hi() got some positional-only arguments passed as keyword arguments: 'name'",
     "output_type": "error",
     "traceback": [
      "\u001b[0;31m---------------------------------------------------------------------------\u001b[0m",
      "\u001b[0;31mTypeError\u001b[0m                                 Traceback (most recent call last)",
      "Cell \u001b[0;32mIn[6], line 5\u001b[0m\n\u001b[1;32m      2\u001b[0m     \u001b[38;5;28mprint\u001b[39m(\u001b[38;5;124m\"\u001b[39m\u001b[38;5;124mhello,\u001b[39m\u001b[38;5;124m\"\u001b[39m, name)\n\u001b[1;32m      4\u001b[0m say_hi(\u001b[38;5;124m'\u001b[39m\u001b[38;5;124mSally\u001b[39m\u001b[38;5;124m'\u001b[39m)\n\u001b[0;32m----> 5\u001b[0m \u001b[43msay_hi\u001b[49m\u001b[43m(\u001b[49m\u001b[43mname\u001b[49m\u001b[43m \u001b[49m\u001b[38;5;241;43m=\u001b[39;49m\u001b[43m \u001b[49m\u001b[38;5;124;43m'\u001b[39;49m\u001b[38;5;124;43mJack\u001b[39;49m\u001b[38;5;124;43m'\u001b[39;49m\u001b[43m)\u001b[49m\n",
      "\u001b[0;31mTypeError\u001b[0m: say_hi() got some positional-only arguments passed as keyword arguments: 'name'"
     ]
    }
   ],
   "source": [
    "# 在/之前，必须通过位置参数传参，不能通过 kwargs 传参\n",
    "def say_hi(name, /):\n",
    "    print(\"hello,\", name)\n",
    "\n",
    "say_hi('Sally')\n",
    "say_hi(name = 'Jack') \n"
   ]
  },
  {
   "cell_type": "markdown",
   "id": "9cfadb5f-a9be-4a69-b950-90705f8e0336",
   "metadata": {},
   "source": [
    "### （3）Positional or keyword arguments"
   ]
  },
  {
   "cell_type": "code",
   "execution_count": 14,
   "id": "abc86cc9-fd46-4e78-ba0d-6f981588b16d",
   "metadata": {},
   "outputs": [
    {
     "ename": "TypeError",
     "evalue": "say_hi() takes 2 positional arguments but 3 were given",
     "output_type": "error",
     "traceback": [
      "\u001b[0;31m---------------------------------------------------------------------------\u001b[0m",
      "\u001b[0;31mTypeError\u001b[0m                                 Traceback (most recent call last)",
      "Cell \u001b[0;32mIn[14], line 9\u001b[0m\n\u001b[1;32m      4\u001b[0m     \u001b[38;5;28mprint\u001b[39m(\u001b[38;5;124m\"\u001b[39m\u001b[38;5;124mand the weather is \u001b[39m\u001b[38;5;124m\"\u001b[39m\u001b[38;5;241m+\u001b[39m weather \u001b[38;5;241m+\u001b[39m \u001b[38;5;124m\"\u001b[39m\u001b[38;5;124m.\u001b[39m\u001b[38;5;124m\"\u001b[39m)\n\u001b[1;32m      6\u001b[0m \u001b[38;5;66;03m#say_hi('Jack','Sunday', weather = 'Sunny') # it works\u001b[39;00m\n\u001b[1;32m      7\u001b[0m \u001b[38;5;66;03m#say_hi(name = 'Jack', weekday='Sunday', weather = 'Sunny') # 报错name 只能通过 positional argumets 传参\u001b[39;00m\n\u001b[1;32m      8\u001b[0m \u001b[38;5;66;03m#say_hi('Jack', weekday='Sunday', weather = 'Sunny')   # it works，说明中间的通过位置传参或者关键词传参均可\u001b[39;00m\n\u001b[0;32m----> 9\u001b[0m \u001b[43msay_hi\u001b[49m\u001b[43m(\u001b[49m\u001b[38;5;124;43m'\u001b[39;49m\u001b[38;5;124;43mJack\u001b[39;49m\u001b[38;5;124;43m'\u001b[39;49m\u001b[43m,\u001b[49m\u001b[43m \u001b[49m\u001b[38;5;124;43m'\u001b[39;49m\u001b[38;5;124;43mSunday\u001b[39;49m\u001b[38;5;124;43m'\u001b[39;49m\u001b[43m,\u001b[49m\u001b[43m \u001b[49m\u001b[38;5;124;43m'\u001b[39;49m\u001b[38;5;124;43mSunny\u001b[39;49m\u001b[38;5;124;43m'\u001b[39;49m\u001b[43m)\u001b[49m   \n",
      "\u001b[0;31mTypeError\u001b[0m: say_hi() takes 2 positional arguments but 3 were given"
     ]
    }
   ],
   "source": [
    "def say_hi(name, /, weekday, *, weather):\n",
    "    print(\"Hello,\" + name + \", \")\n",
    "    print(\"Today is \" + weekday + \", \")\n",
    "    print(\"and the weather is \"+ weather + \".\")\n",
    "\n",
    "#say_hi('Jack','Sunday', weather = 'Sunny') # it works\n",
    "#say_hi(name = 'Jack', weekday='Sunday', weather = 'Sunny') # 报错name 只能通过 positional argumets 传参\n",
    "#say_hi('Jack', weekday='Sunday', weather = 'Sunny')   # it works，说明中间的通过位置传参或者关键词传参均可\n",
    "say_hi('Jack', 'Sunday', 'Sunny') # 报错，因为 weather 只能通过关键词传参  "
   ]
  },
  {
   "cell_type": "markdown",
   "id": "24e324e4-66f2-4239-804b-1b5add811c22",
   "metadata": {
    "tags": []
   },
   "source": [
    "## （1）arbitrary positional arguments"
   ]
  },
  {
   "cell_type": "code",
   "execution_count": 2,
   "id": "7cc6b456-5ea3-49b9-acf8-62c7c13de078",
   "metadata": {
    "tags": []
   },
   "outputs": [
    {
     "name": "stdout",
     "output_type": "stream",
     "text": [
      "Hi, jack\n",
      "Hi, lily\n",
      "Hi, jack\n",
      "Hi, lily\n",
      "Hi, bob\n"
     ]
    }
   ],
   "source": [
    "def say_hi(*names):\n",
    "\tfor name in names:\n",
    "\t\tprint(f'Hi, {name}')\n",
    "say_hi('jack', 'lily')\n",
    "say_hi('jack', 'lily', 'bob')"
   ]
  },
  {
   "cell_type": "code",
   "execution_count": 7,
   "id": "4ed48e83-f5fd-4d51-aeb8-a127ccb0d0eb",
   "metadata": {},
   "outputs": [
    {
     "name": "stdout",
     "output_type": "stream",
     "text": [
      "Counting:0\n",
      "Counting:1\n",
      "Counting:2\n",
      "Counting:3\n",
      "Counting:4\n",
      "Counting:5\n",
      "Counting:6\n",
      "Counting:7\n",
      "Counting:8\n",
      "Counting:9\n",
      "Counting:P\n",
      "Counting:y\n",
      "Counting:t\n",
      "Counting:h\n",
      "Counting:o\n",
      "Counting:n\n",
      "Counting:ann\n",
      "Counting:bob\n",
      "Counting:joe\n",
      "Counting:john\n",
      "Counting:mike\n",
      "Counting:ann\n",
      "Counting:bob\n"
     ]
    }
   ],
   "source": [
    "def counting(*ranges):\n",
    "    for r in ranges:\n",
    "        print(f'Counting:{r}')\n",
    "counting(*range(0,10))\n",
    "counting(*'Python')\n",
    "counting(*('ann', 'bob', 'joe', 'john', 'mike'))\n",
    "counting(*{'ann':123,'bob':456})"
   ]
  },
  {
   "cell_type": "markdown",
   "id": "fe565fef-18e4-40b9-81fc-44050b862c2d",
   "metadata": {},
   "source": [
    "# 二、Regex"
   ]
  },
  {
   "cell_type": "markdown",
   "id": "58ed1d69-5777-46a8-b1d3-fb9e0f9c1d43",
   "metadata": {},
   "source": [
    "## 1、基本用法"
   ]
  },
  {
   "cell_type": "markdown",
   "id": "d4f34ef2-7d5b-41bb-be28-7e3d0f0a87c8",
   "metadata": {},
   "source": [
    "### findall() 函数"
   ]
  },
  {
   "cell_type": "code",
   "execution_count": 37,
   "id": "56e81cc8-e79e-49f3-87b4-404f88a14691",
   "metadata": {},
   "outputs": [
    {
     "name": "stdin",
     "output_type": "stream",
     "text": [
      "Enter a string: jack1245\n"
     ]
    },
    {
     "data": {
      "text/plain": [
       "list"
      ]
     },
     "execution_count": 37,
     "metadata": {},
     "output_type": "execute_result"
    }
   ],
   "source": [
    "# re.findall()返回的是 list\n",
    "import re\n",
    "pattern = re.compile(r\"\")\n",
    "my_string = input(\"Enter a string:\")\n",
    "pattern = re.compile(r\"[0-9]+\")\n",
    "type(re.findall(pattern, my_string))\n",
    "re.findall(pattern, my_string)"
   ]
  },
  {
   "cell_type": "code",
   "execution_count": 3,
   "id": "0bbd811e-69d3-423f-81c6-d0e936156d1f",
   "metadata": {},
   "outputs": [
    {
     "name": "stdin",
     "output_type": "stream",
     "text": [
      "Enter a string: jack124chy\n"
     ]
    },
    {
     "name": "stdout",
     "output_type": "stream",
     "text": [
      "jack_chy\n"
     ]
    }
   ],
   "source": [
    "import re\n",
    "pattern = re.compile(r\"\")\n",
    "my_string = input(\"Enter a string:\")\n",
    "pattern = re.compile(r\"[0-9]+\")\n",
    "result = pattern.sub(\"_\", my_string)\n",
    "print(result)"
   ]
  },
  {
   "cell_type": "markdown",
   "id": "b583108a-4245-43f4-8aaa-31df59a5fbae",
   "metadata": {},
   "source": [
    "### sub()函数"
   ]
  },
  {
   "cell_type": "code",
   "execution_count": 34,
   "id": "f7eca443-4765-4eec-86a1-008d9d815a0c",
   "metadata": {},
   "outputs": [
    {
     "name": "stdin",
     "output_type": "stream",
     "text": [
      "Enter a string: jackhistor1234anc\n"
     ]
    },
    {
     "name": "stdout",
     "output_type": "stream",
     "text": [
      "jackhistor*anc\n"
     ]
    }
   ],
   "source": [
    "# substitute all digits with *\n",
    "import re\n",
    "pattern = re.compile(r\"\")\n",
    "my_string = input(\"Enter a string:\")\n",
    "pattern = re.compile(r\"\\d+\")\n",
    "result = pattern.sub(\"*\", my_string)\n",
    "print(result)"
   ]
  },
  {
   "cell_type": "code",
   "execution_count": 35,
   "id": "edb7f45b-99a3-4e96-a500-78ec028a9ed8",
   "metadata": {},
   "outputs": [
    {
     "name": "stdin",
     "output_type": "stream",
     "text": [
      "Enter a string: jackhistor1234anc\n"
     ]
    },
    {
     "name": "stdout",
     "output_type": "stream",
     "text": [
      "_1234_\n"
     ]
    }
   ],
   "source": [
    "# substitute all non-digits with _\n",
    "import re\n",
    "pattern = re.compile(r\"\")\n",
    "my_string = input(\"Enter a string:\")\n",
    "pattern = re.compile(r\"\\D+\")\n",
    "result = pattern.sub(\"_\", my_string)\n",
    "print(result)"
   ]
  },
  {
   "cell_type": "markdown",
   "id": "55d4207f-1e47-4207-a0de-4543d0f9480b",
   "metadata": {},
   "source": [
    "### Search()函数"
   ]
  },
  {
   "cell_type": "markdown",
   "id": "22641815-3891-4b0e-81e4-0283d05106e1",
   "metadata": {},
   "source": [
    "Search 函数默认只返回满足第一个条件的 word 的位置，即使有第二个，第三个……\n",
    "findall()和 search()不同之处在于：\n",
    "- findall()只返回对应字符串，不返回位置\n",
    "- search()会返回位置\n",
    "- 之后还有 match"
   ]
  },
  {
   "cell_type": "code",
   "execution_count": null,
   "id": "8b7f0f0c-6a77-4d1e-bc37-31f7d5ebf03b",
   "metadata": {},
   "outputs": [],
   "source": [
    "# search()函数\n",
    "import re\n",
    "my_str = “The truth is …… I am Iron Man”\n",
    "result = re.search(\"Iron\",my_str)\n",
    "print(result)\n",
    "if (result):\n",
    "    print(\"Yes, there is a match!\")\n",
    "else:\n",
    "    print(\"No match\")"
   ]
  },
  {
   "cell_type": "markdown",
   "id": "0147cdb9-3ddd-4836-9d39-a4a49927f460",
   "metadata": {},
   "source": [
    "### split()\n",
    "> re.split(pattern, string, maxsplit=0, flags=0)\n",
    "> Split string by the occurrences of pattern. If capturing parentheses are used in pattern, then the text of all groups in the pattern are also returned as part of the resulting list. If maxsplit is nonzero, at most maxsplit splits occur, and the remainder of the string is returned as the final element of the list.\n",
    "\n",
    "split()会根据对应的参数，对string 进行分割\n",
    "split()函数返回的是一个 list，因此对 list 的操作，均适用于 产生的 result"
   ]
  },
  {
   "cell_type": "code",
   "execution_count": 11,
   "id": "b6420fe0-064d-4dde-9a12-f76fe73afbb0",
   "metadata": {},
   "outputs": [
    {
     "name": "stdout",
     "output_type": "stream",
     "text": [
      "['We', 'are', 'Venom']\n",
      "['W', ' ar', ' V', 'nom']\n",
      "['We', 'are', 'Venom']\n",
      "['We', ' ', 'are', ' ', 'Venom']\n"
     ]
    }
   ],
   "source": [
    "import re\n",
    "\n",
    "my_str = \"We are Venom\"\n",
    "result1 = re.split(\"\\s\", my_str) # \\s 相当于Microsoft Word 中根据标识符来分割句子一样\n",
    "result2 = re.split(\"e\",my_str) #此处是根据字母 e 来分割\n",
    "result3 = re.split(\" \",my_str) # 空白也算分割词\n",
    "result4 = re.split(\"(\\W+)\",my_str) #这里如果是(\\W+)，连空格也符合要求了\n",
    "print(result1)\n",
    "print(result2)\n",
    "print(result3)\n",
    "print(result4)\n"
   ]
  },
  {
   "cell_type": "markdown",
   "id": "e6747ce9-dc4b-455a-af46-48e86da95ae3",
   "metadata": {},
   "source": [
    "split 也可以根据位置参数maxlength 来定义最大的切分比例\n",
    "下面的示例中此处的 3传递的是位置参数，指前 3 个 list 分开，之后的就不切分，最终返回的是 4 个 list."
   ]
  },
  {
   "cell_type": "code",
   "execution_count": 15,
   "id": "38129ebf-09f8-45fd-81ec-b2928ca717ed",
   "metadata": {},
   "outputs": [
    {
     "name": "stdout",
     "output_type": "stream",
     "text": [
      "['We', 'are', 'champions', 'all over the world.']\n"
     ]
    }
   ],
   "source": [
    "import re\n",
    "\n",
    "my_str = \"We are champions all over the world.\"\n",
    "result1 = re.split(\"\\s\", my_str,3) \n",
    "print(result1)"
   ]
  },
  {
   "cell_type": "markdown",
   "id": "58b5b9a7-5ab4-47fb-b989-d8e7193ddfc3",
   "metadata": {},
   "source": [
    ".span()函数，会返回单词的起点和终点所占的位置"
   ]
  },
  {
   "cell_type": "code",
   "execution_count": 18,
   "id": "ac601526-33f6-4631-b93b-5b7b4012e2f8",
   "metadata": {},
   "outputs": [
    {
     "name": "stdout",
     "output_type": "stream",
     "text": [
      "(10, 13)\n"
     ]
    },
    {
     "data": {
      "text/plain": [
       "['Man', 'Me']"
      ]
     },
     "execution_count": 18,
     "metadata": {},
     "output_type": "execute_result"
    }
   ],
   "source": [
    "import re\n",
    "\n",
    "my_str = \"I am Iron Man, Me too, \"\n",
    "result = re.search(r\"\\bM\\w+\", my_str) #指找到 M 开头的单词，但只会返回第一个位置\n",
    "print(result.span())\n",
    "re.findall(r\"\\bM\\w+\", my_str)"
   ]
  },
  {
   "cell_type": "code",
   "execution_count": null,
   "id": "0c80254a-417a-4f3c-b5d8-e635be0c2f86",
   "metadata": {},
   "outputs": [],
   "source": [
    "如果要返回满足对应条件的词语，用 result.group()"
   ]
  },
  {
   "cell_type": "code",
   "execution_count": 20,
   "id": "3cd56d18-b08d-4ba4-8d93-f0ff47750015",
   "metadata": {},
   "outputs": [
    {
     "name": "stdout",
     "output_type": "stream",
     "text": [
      "Man\n"
     ]
    },
    {
     "data": {
      "text/plain": [
       "str"
      ]
     },
     "execution_count": 20,
     "metadata": {},
     "output_type": "execute_result"
    }
   ],
   "source": [
    "import re\n",
    "\n",
    "my_str = \"I am Iron Man, Me too, \"\n",
    "result = re.search(r\"\\bM\\w+\", my_str) #指找到 M 开头的单词，但只会返回第一个位置\n",
    "print(result.group()) #\n",
    "type(result.group()) #这里返回的是 str，而不是 list\n"
   ]
  },
  {
   "cell_type": "markdown",
   "id": "f1ff6b2a-19fc-4ee9-91fc-5d13c4124a5f",
   "metadata": {},
   "source": [
    "## 2、Special sequences"
   ]
  },
  {
   "cell_type": "markdown",
   "id": "1b613ea6-852e-4479-b84a-5112715bcf7f",
   "metadata": {},
   "source": [
    "(1) \\w\n",
    "用\\w 适合\n",
    "只是用 \\w 无法用于检测词语中没有特殊符号，通常它只是从左到右返回第一个匹配的字符；\n",
    "如果左边第一个字符是 a-zA-Z0-9 之间任何数字，都会返回真，但后面有没有特殊符号，match 函数不 care;\n",
    "如果左边第一个字符是特殊符号，那么就会发现"
   ]
  },
  {
   "cell_type": "code",
   "execution_count": 19,
   "id": "5628ae35-aff8-4301-b59e-d1c06c1cb4b1",
   "metadata": {},
   "outputs": [
    {
     "name": "stdout",
     "output_type": "stream",
     "text": [
      "<re.Match object; span=(0, 1), match='J'>\n",
      "None\n"
     ]
    }
   ],
   "source": [
    "import re\n",
    "\n",
    "pattern = re.compile(r'\\w') #这样的 pattern,只是不能允许纯特殊符号的密码\n",
    "result1 = pattern.match(\"J!ack\") #只要第一个\n",
    "result2 = pattern.match(\"!Jack\")\n",
    "print(result1)\n",
    "print(result2)"
   ]
  },
  {
   "cell_type": "code",
   "execution_count": null,
   "id": "5ca87a86-f49e-4c79-bcd7-dda494202b4e",
   "metadata": {},
   "outputs": [],
   "source": [
    "（2）\\W"
   ]
  },
  {
   "cell_type": "code",
   "execution_count": 20,
   "id": "4af43268-5b3b-49a1-bda7-6778570b4bdb",
   "metadata": {},
   "outputs": [
    {
     "name": "stdout",
     "output_type": "stream",
     "text": [
      "None\n",
      "['!']\n",
      "<re.Match object; span=(0, 1), match='!'>\n"
     ]
    }
   ],
   "source": [
    "import re\n",
    "pattern = re.compile(r'\\W') # 这个情况下，必须所有的 pwd 都是非 a-zA-Z0-9 才符合条件，一旦第一个特殊符号前有一个字符不是特殊字符，就不match\n",
    "result1 = pattern.match(\"j!ack\")\n",
    "result2 = re.findall(pattern, \"j!ack\")\n",
    "\n",
    "result3 = pattern.match(\"!@#\")\n",
    "print(result1)\n",
    "print(result2)\n",
    "print(result3)"
   ]
  },
  {
   "cell_type": "code",
   "execution_count": 26,
   "id": "ca76d3b0-fb0a-482e-a4e1-b20e71b2ad58",
   "metadata": {},
   "outputs": [
    {
     "name": "stdin",
     "output_type": "stream",
     "text": [
      "Enter your password!! jack!\n"
     ]
    },
    {
     "name": "stdout",
     "output_type": "stream",
     "text": [
      "password cannot contain special characters!\n",
      "['!']\n"
     ]
    }
   ],
   "source": [
    "import re\n",
    "\n",
    "my_str = input(\"Enter your password!!\")\n",
    "pattern = re.compile(r'\\W')\n",
    "result = re.findall(pattern, my_str)\n",
    "if (result):\n",
    "    print(\"password cannot contain special characters!\")\n",
    "    print(result)\n",
    "else:\n",
    "    print(\"password is appropriable:\", my_str)\n",
    "    print(result)\n"
   ]
  },
  {
   "cell_type": "markdown",
   "id": "4ae1972c-16cb-4bb0-94f2-dc89f0dbd698",
   "metadata": {},
   "source": [
    "## 3、Quantifiers"
   ]
  },
  {
   "cell_type": "code",
   "execution_count": 4,
   "id": "15fc2cb4-a6bc-457e-9e1b-3efc1d9482a8",
   "metadata": {},
   "outputs": [
    {
     "name": "stdin",
     "output_type": "stream",
     "text": [
      "Enter a string: jack124chy\n"
     ]
    },
    {
     "data": {
      "text/plain": [
       "['1', '2', '4']"
      ]
     },
     "execution_count": 4,
     "metadata": {},
     "output_type": "execute_result"
    }
   ],
   "source": [
    "# \"+\"的用法，等同于{1,}，把数个相邻的数字当作一个 element\n",
    "import re\n",
    "pattern = re.compile(r\"\")\n",
    "my_string = input(\"Enter a string:\")\n",
    "pattern = re.compile(r\"[0-9]+\")\n",
    "re.findall(pattern, my_string) \n"
   ]
  },
  {
   "cell_type": "markdown",
   "id": "4941d8b7-ebc0-437c-93b2-3d90b33c40ec",
   "metadata": {},
   "source": [
    "+ matches the previous token between one and unlimited times, as many times as possible, giving back as needed (greedy)"
   ]
  },
  {
   "cell_type": "code",
   "execution_count": 5,
   "id": "418a50fc-5244-4d3d-9856-b8700189f5f0",
   "metadata": {},
   "outputs": [
    {
     "name": "stdin",
     "output_type": "stream",
     "text": [
      "Enter a string: jack124chy\n"
     ]
    },
    {
     "data": {
      "text/plain": [
       "['124']"
      ]
     },
     "execution_count": 5,
     "metadata": {},
     "output_type": "execute_result"
    }
   ],
   "source": [
    "#{1,}指一个及以上\n",
    "import re\n",
    "pattern = re.compile(r\"\")\n",
    "my_string = input(\"Enter a string:\")\n",
    "pattern = re.compile(r\"[0-9]{1,}\")\n",
    "re.findall(pattern, my_string)\n"
   ]
  },
  {
   "cell_type": "markdown",
   "id": "417510e8-a2f3-4d3d-802e-ba49978699ea",
   "metadata": {},
   "source": [
    "`[0-9]{2,4}`，返回 2-4 个数字，但如果有 12345 大于 4 个数字，会以4 为单位切分，\n",
    "然后剩余不足 4 的部分，但剩余 2 个的，也符合要求。"
   ]
  },
  {
   "cell_type": "code",
   "execution_count": 13,
   "id": "b95cd86f-9530-475a-8ff7-341a03004d4a",
   "metadata": {},
   "outputs": [
    {
     "data": {
      "text/plain": [
       "['1234', '5678']"
      ]
     },
     "execution_count": 13,
     "metadata": {},
     "output_type": "execute_result"
    }
   ],
   "source": [
    "\n",
    "import re\n",
    "pattern = re.compile(r\"\")\n",
    "my_string = \"123456789\" \n",
    "# my_string = \"1234567890\"，会返回 1234、5678、90共 3 个字符\n",
    "pattern = re.compile(r\"[0-9]{2,4}\")\n",
    "re.findall(pattern, my_string)"
   ]
  },
  {
   "cell_type": "code",
   "execution_count": null,
   "id": "b8659ecd-e290-4511-a61f-70629d483a3a",
   "metadata": {},
   "outputs": [],
   "source": []
  },
  {
   "cell_type": "code",
   "execution_count": 20,
   "id": "75576f6a-a06b-40b4-b740-5e970a849a18",
   "metadata": {},
   "outputs": [
    {
     "name": "stdout",
     "output_type": "stream",
     "text": [
      "\n",
      "1234 \n",
      "jack124 \n",
      "_ \n",
      "_CD \n",
      "_CD\n",
      "EF_\n",
      "\n",
      "\n"
     ]
    }
   ],
   "source": [
    "# * 表示0个及以上\n",
    "import re\n",
    "pattern = re.compile(r\"\")\n",
    "my_string = \"\"\"\n",
    "1234 \n",
    "jack124 \n",
    "AAAB \n",
    "ABCD \n",
    "BCD\n",
    "EFAB\n",
    "\n",
    "\"\"\" \n",
    "pattern = re.compile(r\"A*B\")\n",
    "re.findall(pattern, my_string) #返回AAAB，AB，B，AB四个\n",
    "result = pattern.sub(\"_\", my_string)\n",
    "print(result)"
   ]
  },
  {
   "cell_type": "markdown",
   "id": "90f460ba-74dd-4567-8415-29032c6a58a8",
   "metadata": {},
   "source": [
    "? matches the previous token between zero and one times, as many times as possible, giving back as needed (greedy)\n",
    "+?,起到的效果相当于{1}，其中+是至少要有一个，有 N 个连续的字符我都作为一个字符返回（贪婪模式），而？则是只要 0个或者 1 个，两者的交集就是只要有 1 个就返回，以此往复。\n",
    "同理，*?，起到的效果相当于{0,1}"
   ]
  },
  {
   "cell_type": "code",
   "execution_count": 29,
   "id": "f2ab88c3-5626-4e3b-8849-1cecd5708eda",
   "metadata": {},
   "outputs": [
    {
     "data": {
      "text/plain": [
       "['', '', '', '', '', '', '1', '2', '3', '4', '5', '6', '']"
      ]
     },
     "execution_count": 29,
     "metadata": {},
     "output_type": "execute_result"
    }
   ],
   "source": [
    "#{1,}指一个及以上\n",
    "import re\n",
    "pattern = re.compile(r\"\")\n",
    "my_string = \"abcdef123456\"\n",
    "pattern = re.compile(r\"\\d?\")\n",
    "re.findall(pattern, my_string)\n"
   ]
  },
  {
   "cell_type": "markdown",
   "id": "7032553f-12d3-4565-9cfd-ce6776d9d3b2",
   "metadata": {},
   "source": [
    "## 3、Sets"
   ]
  },
  {
   "cell_type": "code",
   "execution_count": 33,
   "id": "9913f680-57ad-48da-a6af-75f33a72c74d",
   "metadata": {},
   "outputs": [
    {
     "data": {
      "text/plain": [
       "[]"
      ]
     },
     "execution_count": 33,
     "metadata": {},
     "output_type": "execute_result"
    }
   ],
   "source": [
    "# 找出匹配的电话号码\n",
    "import re\n",
    "pattern = re.compile(r\"\")\n",
    "my_string = \"\"\"\n",
    "13123785660\n",
    "021131290490\n",
    "013236687890\n",
    "\"\"\"\n",
    "pattern = re.compile(r\"1[0-9]{10}\")\n",
    "re.findall(pattern, my_string)"
   ]
  },
  {
   "cell_type": "markdown",
   "id": "c3d60f8b-edcd-4b3a-98d6-7a63f95f5a1c",
   "metadata": {},
   "source": [
    "## 4、Boundaries: ^ and $\n"
   ]
  },
  {
   "cell_type": "code",
   "execution_count": 40,
   "id": "df639c65-6533-49c1-878e-947724f9b33e",
   "metadata": {},
   "outputs": [
    {
     "name": "stdout",
     "output_type": "stream",
     "text": [
      "Yes, the string starts with 'Bond'\n"
     ]
    }
   ],
   "source": [
    "# ^Bond is checking if the string starts with \"Bond\",letter by letter\n",
    "# if the pattern is ^blond, then return \"no match\"\n",
    "import re\n",
    "my_str = \"Bond! james Bond\"\n",
    "pattern = re.compile(r\"^Bond\")\n",
    "result = re.findall(pattern,my_str)\n",
    "if (result):\n",
    "    print(\"Yes, the string starts with 'Bond'\")\n",
    "else:\n",
    "    print(\"No match\")\n",
    "    "
   ]
  },
  {
   "cell_type": "code",
   "execution_count": null,
   "id": "223564c1-695b-4d69-b2f4-3a1d8b7bf9d8",
   "metadata": {},
   "outputs": [],
   "source": [
    "注意：\\A和 ^ 不同的地方，\\A 会 check 第一个单词(word)是否符合，而^ 是会逐个字母比较"
   ]
  },
  {
   "cell_type": "code",
   "execution_count": 45,
   "id": "c843ce2d-34fb-41f1-973f-803a7e0cdf61",
   "metadata": {},
   "outputs": [
    {
     "name": "stdout",
     "output_type": "stream",
     "text": [
      "Yes, the string begins with Bond\n"
     ]
    }
   ],
   "source": [
    "# \\A is for checking the first word \n",
    "import re \n",
    "my_str = \"Bond! james Bond 007\"\n",
    "result = re.findall(\"\\ABond\",my_str)\n",
    "if (result):\n",
    "    print(\"Yes, the string begins with Bond\")\n",
    "else:\n",
    "    print(\"No match\")"
   ]
  },
  {
   "cell_type": "code",
   "execution_count": 44,
   "id": "d58f4fcb-22e7-4b78-a711-7972bf6e65fb",
   "metadata": {},
   "outputs": [
    {
     "name": "stdout",
     "output_type": "stream",
     "text": [
      "No match\n"
     ]
    }
   ],
   "source": [
    "# $ is for checking the last word or character, letter by letter\n",
    "import re \n",
    "my_str = \"Bond! james Bond 007\"\n",
    "result = re.findall(\"0007$\",my_str)\n",
    "if (result):\n",
    "    print(\"Yes, the string ends with 007'\")\n",
    "else:\n",
    "    print(\"No match\")"
   ]
  },
  {
   "cell_type": "markdown",
   "id": "9c6bcdf4-6d2b-41d9-95b8-bc01adff0e9f",
   "metadata": {},
   "source": [
    "##  5、实战"
   ]
  },
  {
   "cell_type": "markdown",
   "id": "579aa02b-c9fb-4919-ab60-8970c8069484",
   "metadata": {},
   "source": [
    "### （1）task 1：\n",
    "① Write a program to simply generate a password that consists of numbers and characters?"
   ]
  },
  {
   "cell_type": "code",
   "execution_count": 31,
   "id": "44c7120e-9bc2-40d0-9fcf-59341be65d7a",
   "metadata": {},
   "outputs": [
    {
     "name": "stdin",
     "output_type": "stream",
     "text": [
      "please enter your password: ！@#¥\n"
     ]
    },
    {
     "name": "stdout",
     "output_type": "stream",
     "text": [
      "Invalid pwd.\n"
     ]
    }
   ],
   "source": [
    "import re\n",
    "\n",
    "my_str = input(\"please enter your password:\")\n",
    "result = re.findall(r\"\\w\",my_str)\n",
    "if (result):\n",
    "    print(\"Valid pwd, your pwd is:\", my_str)\n",
    "else:\n",
    "    print(\"Invalid pwd.\")"
   ]
  },
  {
   "cell_type": "code",
   "execution_count": 30,
   "id": "5530f79e-d89f-4d80-b06f-0f03cb5bb7e4",
   "metadata": {},
   "outputs": [
    {
     "name": "stdin",
     "output_type": "stream",
     "text": [
      "Enter a password: jack!\n"
     ]
    },
    {
     "name": "stdout",
     "output_type": "stream",
     "text": [
      "Valid Password, your password is: jack!\n"
     ]
    }
   ],
   "source": [
    "import re\n",
    "\n",
    "pattern = re.compile(r'')\n",
    "password = input(\"Enter a password:\")\n",
    "pattern = re.compile(r'\\w') #这样的 pattern,只是不能允许纯特殊符号的密码\n",
    "result = pattern.match(password)\n",
    "if(result):\n",
    "    print(\"Valid Password, your password is:\", password)\n",
    "else:\n",
    "    print('Password Invalid')"
   ]
  },
  {
   "cell_type": "markdown",
   "id": "3e31d77b-e2e6-4fbb-9a4d-0c510e266519",
   "metadata": {},
   "source": [
    "② Write a program to simply generate a password that consists of numbers and characters and it should be at least 6 characters long?\n"
   ]
  },
  {
   "cell_type": "code",
   "execution_count": 36,
   "id": "7c5e53d3-3cb8-4027-8e59-709a4fcc9385",
   "metadata": {},
   "outputs": [
    {
     "name": "stdin",
     "output_type": "stream",
     "text": [
      "please enter your password: !@#$$%^\n"
     ]
    },
    {
     "name": "stdout",
     "output_type": "stream",
     "text": [
      "Invalid pwd.\n"
     ]
    }
   ],
   "source": [
    "import re\n",
    "\n",
    "my_str = input(\"please enter your password:\")\n",
    "result = re.findall(r\"\\w{6,}\",my_str)\n",
    "if (result):\n",
    "    print(\"Valid pwd, your pwd is:\", my_str)\n",
    "else:\n",
    "    print(\"Invalid pwd.\")"
   ]
  },
  {
   "cell_type": "markdown",
   "id": "31cb8296-0de6-4ead-a78c-0f8f2b74ed1e",
   "metadata": {},
   "source": [
    "③ 强密码验证\n",
    "\n",
    "写一个程序：符合以下条件\n",
    "Everybody has once (or many a time in fact), got chance to visit a site and make a password which prompts a message like this: 1. Your password must be at least 8 characters long. 2. Your password must contain at least 1 number and 1 special character. 3. Password must have 1st character in uppercase."
   ]
  },
  {
   "cell_type": "code",
   "execution_count": null,
   "id": "c691a9ff-ef94-4e64-a8a9-0b00438d6daa",
   "metadata": {
    "jp-MarkdownHeadingCollapsed": true
   },
   "outputs": [],
   "source": [
    "# import re\n",
    "\n",
    "my_str = input(\"\"\"\n",
    "1. Your password must be at least 8 characters long. \n",
    "2. Your password must contain at least 1 number and 1 special character. \n",
    "3. Password must have 1st character in uppercase.\n",
    "\n",
    "\"\"\"    \n",
    ")\n",
    "result = re.findall(r\"\\b[A-Z][0-9][\\W]{8,}\",my_str) #搞不明白的是 1 nubmer 和 1 special character 没有先后顺序，怎么填\n",
    "if(result):\n",
    "    print(\"It is a strong pwd.\")\n",
    "else:\n",
    "    print(\"It is a weak pwd.\")"
   ]
  },
  {
   "cell_type": "code",
   "execution_count": null,
   "id": "32c4b55b-774b-471e-a6f2-5fa1c6a77816",
   "metadata": {},
   "outputs": [],
   "source": []
  },
  {
   "cell_type": "markdown",
   "id": "fda16803-5209-4064-bf5b-c4feb4ba4c03",
   "metadata": {},
   "source": [
    "### Task2"
   ]
  },
  {
   "cell_type": "markdown",
   "id": "54982011-65bc-47a3-a395-452df218ab05",
   "metadata": {},
   "source": [
    "1. Your password must be at least 8 characters long\n",
    "2. Your password must contain at least 1 number and 1 special character.\n",
    "3. Password must have 1st character in uppercase"
   ]
  },
  {
   "cell_type": "code",
   "execution_count": 49,
   "id": "95c66693-67d6-4e22-bd78-ad4de43e983e",
   "metadata": {},
   "outputs": [
    {
     "name": "stdin",
     "output_type": "stream",
     "text": [
      "please enter your password mark60@avengers\n"
     ]
    },
    {
     "name": "stdout",
     "output_type": "stream",
     "text": [
      "Password must have 1st character in uppercase\n"
     ]
    }
   ],
   "source": [
    "# 以下是我自己用 findall 函数来完成的强密码作业，验证之后确实可以满足条件。\n",
    "import re\n",
    "\n",
    "\n",
    "while True:\n",
    "    my_str = input(\"please enter your password\")\n",
    "    \n",
    "    if len(my_str)< 8:\n",
    "        print(\"Your password must be at least 8 characters long\")\n",
    "\n",
    "    if not re.findall(r\"\\d+\", my_str):\n",
    "        print(\"Your password must contain at least 1 number\")\n",
    "\n",
    "    if not re.findall(r\"\\W+\", my_str):\n",
    "        print(\"Your password must contain at least 1 special character\")\n",
    "\n",
    "    if not re.findall(r\"^[A-Z]+\", my_str):\n",
    "        print(\"Password must have 1st character in uppercase\")\n",
    "        \n",
    "    elif re.findall(r\"\\d+\", my_str) and re.findall(r\"\\W+\", my_str) and re.findall(r\"^[A-Z]+\", my_str):\n",
    "        print(\"the pwd is strong:\", my_str)\n",
    "\n",
    "    else:\n",
    "        print('Password Invalid')"
   ]
  },
  {
   "cell_type": "code",
   "execution_count": 48,
   "id": "307b10db-a5c8-46a9-8035-3acdafecfce7",
   "metadata": {},
   "outputs": [
    {
     "name": "stdin",
     "output_type": "stream",
     "text": [
      "Enter a password jack1234\n"
     ]
    },
    {
     "name": "stdout",
     "output_type": "stream",
     "text": [
      "Password must have 1 special character\n",
      "First character must be a capital letter\n"
     ]
    },
    {
     "name": "stdin",
     "output_type": "stream",
     "text": [
      "Enter a password Jack1234\n"
     ]
    },
    {
     "name": "stdout",
     "output_type": "stream",
     "text": [
      "Password must have 1 special character\n",
      "Valid Password. Your password is: <re.Match object; span=(0, 8), match='Jack1234'>\n"
     ]
    }
   ],
   "source": [
    "# 以下是 kindle 电子书中的答案，可以对比看看，当然，标准答案中更简洁\n",
    "import re\n",
    "pattern = re.compile(r' ')\n",
    "\n",
    "while True:\n",
    "    my_str = input('Enter a password')\n",
    "    if (len(my_str)<8):\n",
    "        print('Password must be of minimum 8 characters')\n",
    "\n",
    "    if re.search(r'[!@#$%&]', my_str) is None:\n",
    "        print('Password must have 1 special character')\n",
    "\n",
    "    if re.search(r'\\d', my_str) is None:\n",
    "        print('Password must have 1 digit')\n",
    "\n",
    "    if my_str and not my_str[0].isupper():\n",
    "        print('First character must be a capital letter') \n",
    "\n",
    "    elif re.match(r'[A-Za-z0-9!@#$%&]{8,}', my_str):\n",
    "        pattern = re.compile(r'[A-Za-z0-9!@#$%&+=]{8,}')\n",
    "        result = pattern.match(my_str)\n",
    "        print('Valid Password. Your password is:', result)\n",
    "        break\n",
    "        \n",
    "    else:\n",
    "        print('Password Invalid')\n"
   ]
  },
  {
   "cell_type": "code",
   "execution_count": 44,
   "id": "2fcc5f63-3157-48cf-b19e-5ddc83b23a3b",
   "metadata": {},
   "outputs": [
    {
     "name": "stdin",
     "output_type": "stream",
     "text": [
      "Enter a password jack1234567\n"
     ]
    },
    {
     "name": "stdout",
     "output_type": "stream",
     "text": [
      "<re.Match object; span=(0, 11), match='jack1234567'>\n"
     ]
    }
   ],
   "source": [
    "# 通过下面的式子只能测试出，必须满足 8 个字符，但是其中到底有没有特殊字符，语句不管。\n",
    "import re\n",
    "\n",
    "my_str = input('Enter a password')\n",
    "result = re.match(r'[A-Za-z0-9!@#$%&]{8,}', my_str)\n",
    "print(result)"
   ]
  }
 ],
 "metadata": {
  "kernelspec": {
   "display_name": "Python 3 (ipykernel)",
   "language": "python",
   "name": "python3"
  },
  "language_info": {
   "codemirror_mode": {
    "name": "ipython",
    "version": 3
   },
   "file_extension": ".py",
   "mimetype": "text/x-python",
   "name": "python",
   "nbconvert_exporter": "python",
   "pygments_lexer": "ipython3",
   "version": "3.8.18"
  },
  "toc-autonumbering": false
 },
 "nbformat": 4,
 "nbformat_minor": 5
}
